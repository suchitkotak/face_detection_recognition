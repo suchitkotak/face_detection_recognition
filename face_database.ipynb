import numpy as np
import matplotlib.pyplot as plt
import cv2
import os
import sqlite3
from PIL import Image

facedetector= cv2.CascadeClassifier('haarcascade_frontalface_default.xml')
cam = cv2.VideoCapture(0)

def insertOrUpdate(ID,Name):
    conn= sqlite3.connect("C:\\Users\\suchi\\Desktop\\MCA\\MasterThesis\\face_details.db")
    cmd="Select * from Person Where ID="+str(ID)
    cursor= conn.execute(cmd)
    isRecordExist=0
    for row in cursor:
        isRecordExist=1
    if(isRecordExist==1):
        cmd="UPDATE Person SET Name=' "+str(name)+" ' WHERE ID="+str(id)
    else:
        cmd= "INSERT INTO Person(ID,Name) Values("+str(id)+",' "+str(name)+" ' )"
    conn.execute(cmd)
    conn.commit()
    conn.close()
    
id=input('Enter user id:')
name=input('Enter Name:')
insertOrUpdate(id,name)
sampleNum=0;
while(True):
    ret, img = cam.read()
    gray = cv2.cvtColor(img, cv2.COLOR_BGR2GRAY)
    faces = facedetector.detectMultiScale(gray, 1.3, 5)
    for (x,y,w,h) in faces:
        sampleNum=sampleNum+1;
        cv2.imwrite("database/User."+str(id)+"."+str(sampleNum)+".jpeg",gray[y:y+h,x:x+w])
        cv2.rectangle(img,(x,y),(x+w,y+h),(255,0,0),2)
        cv2.waitKey(100);
    cv2.imshow('faces',img);
    if (sampleNum>30):
        break
    
cam.release()
cv2.destroyAllWindows()